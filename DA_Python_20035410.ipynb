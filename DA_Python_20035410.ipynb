{
  "nbformat": 4,
  "nbformat_minor": 0,
  "metadata": {
    "colab": {
      "provenance": [],
      "authorship_tag": "ABX9TyNFrNBimxhbzWdvEwN2r/kZ",
      "include_colab_link": true
    },
    "kernelspec": {
      "name": "python3",
      "display_name": "Python 3"
    },
    "language_info": {
      "name": "python"
    }
  },
  "cells": [
    {
      "cell_type": "markdown",
      "metadata": {
        "id": "view-in-github",
        "colab_type": "text"
      },
      "source": [
        "<a href=\"https://colab.research.google.com/github/athulrj02/-MedGraphia/blob/main/DA_Python_20035410.ipynb\" target=\"_parent\"><img src=\"https://colab.research.google.com/assets/colab-badge.svg\" alt=\"Open In Colab\"/></a>"
      ]
    },
    {
      "cell_type": "code",
      "source": [
        "i = int(input('Weight: '))\n",
        "if i>15:\n",
        "  print('weight is over 15kg')\n",
        "else:\n",
        "  print('weight is under 15 kg')"
      ],
      "metadata": {
        "colab": {
          "base_uri": "https://localhost:8080/"
        },
        "id": "kDDmlhrh4vFk",
        "outputId": "079d4680-b9af-434b-f5b2-9442748b9e83"
      },
      "execution_count": null,
      "outputs": [
        {
          "output_type": "stream",
          "name": "stdout",
          "text": [
            "Weight: 14\n",
            "weight is under 15 kg\n"
          ]
        }
      ]
    },
    {
      "cell_type": "code",
      "source": [
        "i =int(input('Weight: '))\n",
        "while i>15:\n",
        "  print('overweight')\n",
        "  s=input('remv smtng (y/n):')\n",
        "  if s== 'y' :\n",
        "    remv_kg=int(input('Kg removed:'))\n",
        "    i=i-remv_kg\n",
        "  else:\n",
        "    print('cannot proceed')\n",
        "print('u can proceed')\n",
        "\n",
        "# else:\n",
        "  # print('ok')"
      ],
      "metadata": {
        "colab": {
          "base_uri": "https://localhost:8080/"
        },
        "id": "bme6a8MMW8z_",
        "outputId": "70e3a427-26b9-4cde-9eda-713bcca82dab"
      },
      "execution_count": null,
      "outputs": [
        {
          "output_type": "stream",
          "name": "stdout",
          "text": [
            "Weight: 21\n",
            "overweight\n",
            "remv smtng (y/n):n\n",
            "cannot proceed\n",
            "overweight\n",
            "remv smtng (y/n):y\n",
            "Kg removed:7\n",
            "u can proceed\n"
          ]
        }
      ]
    },
    {
      "cell_type": "code",
      "execution_count": null,
      "metadata": {
        "colab": {
          "base_uri": "https://localhost:8080/"
        },
        "id": "EZePfwYq3lnO",
        "outputId": "3b15aac5-742e-45ee-9b0f-f0445dc03e1b"
      },
      "outputs": [
        {
          "output_type": "stream",
          "name": "stdout",
          "text": [
            "Weight in kg: 17\n",
            "Weight limit is over!\n",
            "Remove something \n",
            "Kg removed: 3\n",
            "U can proceed\n"
          ]
        }
      ],
      "source": [
        "i=int(input('Weight in kg: '))\n",
        "while i>15:\n",
        "  print(\"Weight limit is over!\")\n",
        "  print('Remove something ')\n",
        "  rem_weight= int(input('Kg removed: '))\n",
        "  i = i - rem_weight\n",
        "\n",
        "print(\"U can proceed\")"
      ]
    },
    {
      "cell_type": "code",
      "source": [
        "i=int(input('Weight in kg: '))\n",
        "while i>15:\n",
        "  print(\"Weight limit is over!\")\n",
        "  print('Remove something ')\n",
        "  rem_weight= int(input('Kg removed: '))\n",
        "  i -= rem_weight\n",
        "\n",
        "print(\"U can proceed\")"
      ],
      "metadata": {
        "colab": {
          "base_uri": "https://localhost:8080/"
        },
        "id": "sYy5__7N4ZLM",
        "outputId": "c35d4d66-b0c0-48d5-f90a-c10d63b0ec36"
      },
      "execution_count": null,
      "outputs": [
        {
          "output_type": "stream",
          "name": "stdout",
          "text": [
            "Weight in kg: 21\n",
            "Weight limit is over!\n",
            "Remove something \n",
            "Kg removed: 7\n",
            "U can proceed\n"
          ]
        }
      ]
    },
    {
      "cell_type": "code",
      "source": [
        "for count in[1,2,3]:\n",
        "  # print(count)\n",
        "  print('yes'*count)\n",
        "print('Done Counting')\n",
        "for color in ['red','green','blue']:\n",
        "  print(color)"
      ],
      "metadata": {
        "colab": {
          "base_uri": "https://localhost:8080/"
        },
        "id": "XmRrEySwBM8G",
        "outputId": "ac196e6d-64f7-48fe-b098-e97b57c45530"
      },
      "execution_count": null,
      "outputs": [
        {
          "output_type": "stream",
          "name": "stdout",
          "text": [
            "yes\n",
            "yesyes\n",
            "yesyesyes\n",
            "Done Counting\n",
            "red\n",
            "green\n",
            "blue\n"
          ]
        }
      ]
    },
    {
      "cell_type": "code",
      "source": [
        "for i in range(7):\n",
        "  # print('hi')\n",
        "  print('hello '*i)"
      ],
      "metadata": {
        "colab": {
          "base_uri": "https://localhost:8080/"
        },
        "id": "3uU20mZ78Ack",
        "outputId": "81f17293-c099-4a1b-d5f7-6d2175ab936a"
      },
      "execution_count": null,
      "outputs": [
        {
          "output_type": "stream",
          "name": "stdout",
          "text": [
            "\n",
            "hello \n",
            "hello hello \n",
            "hello hello hello \n",
            "hello hello hello hello \n",
            "hello hello hello hello hello \n",
            "hello hello hello hello hello hello \n"
          ]
        }
      ]
    },
    {
      "cell_type": "code",
      "source": [
        "total = 0\n",
        "for i in range(1000):\n",
        "  if i%3 ==0 or i% 5 == 0:\n",
        "    total = total + i\n",
        "# sum = 0\n",
        "total"
      ],
      "metadata": {
        "colab": {
          "base_uri": "https://localhost:8080/"
        },
        "id": "Q26dcf6e8i9C",
        "outputId": "df27deca-0760-4b5f-fdc8-ea2ee45c6670"
      },
      "execution_count": null,
      "outputs": [
        {
          "output_type": "execute_result",
          "data": {
            "text/plain": [
              "233168"
            ]
          },
          "metadata": {},
          "execution_count": 20
        }
      ]
    },
    {
      "cell_type": "code",
      "source": [
        "t= 0\n",
        "for i in range(1000):\n",
        "  if i%3==0 or i%5==0:\n",
        "    t=t+i\n",
        "t\n"
      ],
      "metadata": {
        "colab": {
          "base_uri": "https://localhost:8080/"
        },
        "id": "4Ae6_LtGZ6nC",
        "outputId": "80c3bfbc-4268-4e6f-8c91-1b9f00348031"
      },
      "execution_count": null,
      "outputs": [
        {
          "output_type": "execute_result",
          "data": {
            "text/plain": [
              "233168"
            ]
          },
          "metadata": {},
          "execution_count": 16
        }
      ]
    },
    {
      "cell_type": "code",
      "source": [
        "n1= int(input('Factor 1: '))\n",
        "n2= int(input('Factor 2: '))\n",
        "total=0\n",
        "for i in range(1000):\n",
        "  if i%n1==0 or i%n2==0:\n",
        "    total= total+i\n",
        "print('the sum of multiples of ', n1, 'or', n2, 'in 1000', 'is', total)"
      ],
      "metadata": {
        "colab": {
          "base_uri": "https://localhost:8080/"
        },
        "id": "vykE3rcCFEvp",
        "outputId": "f651c59a-c20c-4acc-82bb-1a887b2b1376"
      },
      "execution_count": null,
      "outputs": [
        {
          "output_type": "stream",
          "name": "stdout",
          "text": [
            "Factor 1: 3\n",
            "Factor 2: 5\n",
            "the sum of multiples of  3 or 5 in 1000 is 233168\n"
          ]
        }
      ]
    },
    {
      "cell_type": "code",
      "source": [
        "# Sep 23\n",
        "#If we list all the natural numbers below 10 that are multiples of 3 or 5, we get 3, 5, 6 and 9.\n",
        "# The sum of these multiples is 23.\n",
        "\n",
        "#Create a function to find the sum of all the multiples of a or b below n.\n",
        "##(a,b,n) are function parameters"
      ],
      "metadata": {
        "id": "N0wrIgL7oWDq"
      },
      "execution_count": null,
      "outputs": []
    },
    {
      "cell_type": "code",
      "source": [
        "def sum(a,b,n):\n",
        "  total = 0\n",
        "  for i in range (n):\n",
        "    if i%a==0 or i%b==0:\n",
        "      total= total +i\n",
        "  return total\n",
        "a=3\n",
        "b=5\n",
        "n=1000\n",
        "result= sum(a,b,n)\n",
        "\n",
        "print('the sum of multiples of ', a, 'or', b, 'in range', n,'is', result)\n"
      ],
      "metadata": {
        "colab": {
          "base_uri": "https://localhost:8080/"
        },
        "id": "RpsAP65_oXeA",
        "outputId": "5029b0a2-82eb-4336-cecd-2758444f3f18"
      },
      "execution_count": null,
      "outputs": [
        {
          "output_type": "stream",
          "name": "stdout",
          "text": [
            "the sum of multiples of  3 or 5 in range 1000 is 233168\n"
          ]
        }
      ]
    },
    {
      "cell_type": "code",
      "source": [
        "total=0\n",
        "def sum(a,b,n):\n",
        "  global total\n",
        "  for i in range (n):\n",
        "    if i%a==0 or i%b==0:\n",
        "      total= total +i\n",
        "\n",
        "a=3\n",
        "b=5\n",
        "n=1000\n",
        "\n",
        "sum(a,b,n)\n",
        "\n",
        "print('the sum of multiples of ', a, 'or', b, 'in range',n, 'is', total)"
      ],
      "metadata": {
        "colab": {
          "base_uri": "https://localhost:8080/"
        },
        "id": "DzE2eeFwkEeZ",
        "outputId": "2cff3daf-3061-4f62-96c7-99bbcd6e19b3"
      },
      "execution_count": null,
      "outputs": [
        {
          "output_type": "stream",
          "name": "stdout",
          "text": [
            "the sum of multiples of  3 or 5 in range 1000 is 233168\n"
          ]
        }
      ]
    },
    {
      "cell_type": "code",
      "source": [
        "# 1\n",
        "#Create a function to find the sum of all the multiples of a or b in list l.\n",
        "#(a,b,l) are function parameters"
      ],
      "metadata": {
        "id": "0hWqOvgE47t7"
      },
      "execution_count": null,
      "outputs": []
    },
    {
      "cell_type": "code",
      "source": [
        "def sum(a,b,n):\n",
        "  total=0\n",
        "  for i in range(len(l)):\n",
        "    if i%a==0 or i%b==0:\n",
        "      total+=i\n",
        "  return total\n",
        "a=3\n",
        "b=5\n",
        "\n",
        "l=[1,2,3,4,5,6,7,8,9,10]\n",
        "result= sum(a,b,n)\n",
        "print('the sum of multiples of ', a, 'or', b, 'in list', l,'is', result)\n"
      ],
      "metadata": {
        "colab": {
          "base_uri": "https://localhost:8080/"
        },
        "id": "8dzNtWZ65SOY",
        "outputId": "464cae18-75d1-4942-a294-44a8e9ac776b"
      },
      "execution_count": null,
      "outputs": [
        {
          "output_type": "stream",
          "name": "stdout",
          "text": [
            "the sum of multiples of  3 or 5 in list [1, 2, 3, 4, 5, 6, 7, 8, 9, 10] is 23\n"
          ]
        }
      ]
    },
    {
      "cell_type": "code",
      "source": [
        "# scope\n",
        "# x local variable\n",
        "# y global variable\n",
        "def f():\n",
        "  x=2\n",
        "  print('x1',x)\n",
        "  print('y1',y)\n",
        "y=5\n",
        "print('y2',y)\n",
        "# print('x2',x)\n",
        "f()\n",
        "# print('x3',x)\n",
        "print('y3', y)"
      ],
      "metadata": {
        "colab": {
          "base_uri": "https://localhost:8080/"
        },
        "id": "hjBGP7FYSZoF",
        "outputId": "69f85535-e5bf-48eb-ab1c-861f0f7560b9"
      },
      "execution_count": null,
      "outputs": [
        {
          "output_type": "stream",
          "name": "stdout",
          "text": [
            "y2 5\n",
            "x1 2\n",
            "y1 5\n",
            "y3 5\n"
          ]
        }
      ]
    },
    {
      "cell_type": "code",
      "source": [
        "def fn():\n",
        "  p=21\n",
        "  return p\n",
        "q=fn()\n",
        "print(q)\n"
      ],
      "metadata": {
        "colab": {
          "base_uri": "https://localhost:8080/"
        },
        "id": "EZepSw2dU5Wj",
        "outputId": "0815332f-5d9f-4737-ded3-472ccce1da80"
      },
      "execution_count": null,
      "outputs": [
        {
          "output_type": "stream",
          "name": "stdout",
          "text": [
            "21\n"
          ]
        }
      ]
    },
    {
      "cell_type": "code",
      "source": [
        "def fn():\n",
        "  global r\n",
        "  r=20\n",
        "  print(r)\n",
        "\n",
        "r= 10\n",
        "fn()\n",
        "print(r)"
      ],
      "metadata": {
        "colab": {
          "base_uri": "https://localhost:8080/"
        },
        "id": "DcK8IXPwWHsM",
        "outputId": "16de25ff-f633-4788-b6f5-ad8f1f1e1354"
      },
      "execution_count": null,
      "outputs": [
        {
          "output_type": "stream",
          "name": "stdout",
          "text": [
            "20\n",
            "20\n"
          ]
        }
      ]
    },
    {
      "cell_type": "code",
      "source": [
        "# 2\n",
        "#Create a function to find the sum of all the multiples of elements of list a in list l.\n",
        "##(a,l) are function parameters, len(a) == 2."
      ],
      "metadata": {
        "id": "BzJ8Q_shlXvw"
      },
      "execution_count": null,
      "outputs": []
    },
    {
      "cell_type": "code",
      "source": [
        "total = 0\n",
        "def fn1(a,l):\n",
        "  global total\n",
        "  for i in range(len(l)):\n",
        "    if (i%a[0]==0) or (i%a[1]==0):\n",
        "      total += i\n",
        "\n",
        "\n",
        "\n",
        "l=[1,2,3,4,5,6,7,8,9,10]\n",
        "a=[3,5]\n",
        "# len(a)\n",
        "fn1(a,l)\n",
        "print('sum of all the multiples in lists', l, 'and', a, 'is', total)"
      ],
      "metadata": {
        "colab": {
          "base_uri": "https://localhost:8080/"
        },
        "id": "bPlqxm1eleL3",
        "outputId": "df103068-df4f-43a6-c27d-ba0edfe45e21"
      },
      "execution_count": null,
      "outputs": [
        {
          "output_type": "stream",
          "name": "stdout",
          "text": [
            "sum of all the multiples in lists [1, 2, 3, 4, 5, 6, 7, 8, 9, 10] and [3, 5] is 23\n"
          ]
        }
      ]
    },
    {
      "cell_type": "code",
      "source": [
        "# 3\n",
        "#Create a function to find the sum of all the multiples of elements of list a in list l.\n",
        "##(a,l) are function parameters."
      ],
      "metadata": {
        "id": "_ffJ0ynyyuwH"
      },
      "execution_count": null,
      "outputs": []
    },
    {
      "cell_type": "code",
      "source": [
        "total=0\n",
        "def f2(l,a):\n",
        "  global total\n",
        "  # total = 0\n",
        "  for i in l:\n",
        "    for x in a:\n",
        "      if (i%x)==0:\n",
        "        total += i\n",
        "        break\n",
        "  # return total\n",
        "\n",
        "\n",
        "\n",
        "l=[1, 2, 3, 4, 5, 6, 7, 8, 9, 10]\n",
        "a=[3, 2]\n",
        "f2(l,a)\n",
        "print(total)"
      ],
      "metadata": {
        "colab": {
          "base_uri": "https://localhost:8080/"
        },
        "id": "02DMLaTt1r0x",
        "outputId": "96c4e846-817b-40a9-9314-25e1ede32313"
      },
      "execution_count": 8,
      "outputs": [
        {
          "output_type": "stream",
          "name": "stdout",
          "text": [
            "42\n"
          ]
        }
      ]
    },
    {
      "cell_type": "code",
      "source": [
        "#Create a function to find the sum of all the multiples of elements contained in\n",
        "# file with filename a in file with filename l.\n",
        "##(a,l) are function parameters - strings."
      ],
      "metadata": {
        "id": "DXFrGuf_Pfxf"
      },
      "execution_count": null,
      "outputs": []
    },
    {
      "cell_type": "code",
      "source": [
        "def f6(f_a, f_l):\n",
        "    with open(f_a, 'r') as file_a:\n",
        "        a_num = [int(line.strip()) for line in file_a]\n",
        "\n",
        "\n",
        "    with open(f_l, 'r') as file_l:\n",
        "        l_num = [int(line.strip()) for line in file_l]\n",
        "\n",
        "    total = 0\n",
        "    for i in a_num:\n",
        "        for x in l_num:\n",
        "            if x % i == 0:\n",
        "                total += x\n",
        "\n",
        "    print(total)\n",
        "\n",
        "\n",
        "with open('a', 'w') as f:\n",
        "    for n in [2, 3, 5]:\n",
        "        f.write(str(n) + '\\n')\n",
        "\n",
        "\n",
        "l = list(range(12))\n",
        "l.remove(10)\n",
        "\n",
        "with open('l', 'w') as f:\n",
        "    for n in l:\n",
        "        f.write(str(n) + '\\n')\n",
        "\n",
        "\n",
        "f6('a', 'l')\n"
      ],
      "metadata": {
        "id": "01iIoJfl6W7S",
        "colab": {
          "base_uri": "https://localhost:8080/"
        },
        "outputId": "183f521f-52d4-4d74-f8f3-e39cc20c6fd8"
      },
      "execution_count": 6,
      "outputs": [
        {
          "output_type": "stream",
          "name": "stdout",
          "text": [
            "43\n"
          ]
        }
      ]
    }
  ]
}